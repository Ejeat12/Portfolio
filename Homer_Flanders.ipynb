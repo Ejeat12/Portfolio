{
  "nbformat": 4,
  "nbformat_minor": 0,
  "metadata": {
    "colab": {
      "provenance": [],
      "authorship_tag": "ABX9TyMecKxxn9bZk3T/MyHmCF7t",
      "include_colab_link": true
    },
    "kernelspec": {
      "name": "python3",
      "display_name": "Python 3"
    },
    "language_info": {
      "name": "python"
    },
    "gpuClass": "standard"
  },
  "cells": [
    {
      "cell_type": "markdown",
      "metadata": {
        "id": "view-in-github",
        "colab_type": "text"
      },
      "source": [
        "<a href=\"https://colab.research.google.com/github/Ejeat12/Profolio/blob/main/Homer_Flanders.ipynb\" target=\"_parent\"><img src=\"https://colab.research.google.com/assets/colab-badge.svg\" alt=\"Open In Colab\"/></a>"
      ]
    },
    {
      "cell_type": "code",
      "source": [],
      "metadata": {
        "id": "fiXnNBiaah_m"
      },
      "execution_count": null,
      "outputs": []
    },
    {
      "cell_type": "markdown",
      "source": [
        "# For this Project, I will attempt to build a model that recognizes whether a quote is from Homer Simpson or his neighbor, Ned Flanders. Based on the input text the model will output a 1 if Homer said it or a 0 if Flanders said it.\n",
        "\n"
      ],
      "metadata": {
        "id": "iKQbDrphai59"
      }
    },
    {
      "cell_type": "code",
      "execution_count": null,
      "metadata": {
        "colab": {
          "base_uri": "https://localhost:8080/"
        },
        "id": "ivK9gIDI_ZS4",
        "outputId": "69dbb0c0-7cd9-49bf-bfd7-847e3a4761c9"
      },
      "outputs": [
        {
          "output_type": "stream",
          "name": "stdout",
          "text": [
            "--2023-01-06 02:15:07--  https://raw.githubusercontent.com/mrdbourke/tensorflow-deep-learning/main/extras/helper_functions.py\n",
            "Resolving raw.githubusercontent.com (raw.githubusercontent.com)... 185.199.108.133, 185.199.109.133, 185.199.110.133, ...\n",
            "Connecting to raw.githubusercontent.com (raw.githubusercontent.com)|185.199.108.133|:443... connected.\n",
            "HTTP request sent, awaiting response... 200 OK\n",
            "Length: 10246 (10K) [text/plain]\n",
            "Saving to: ‘helper_functions.py.2’\n",
            "\n",
            "\rhelper_functions.py   0%[                    ]       0  --.-KB/s               \rhelper_functions.py 100%[===================>]  10.01K  --.-KB/s    in 0s      \n",
            "\n",
            "2023-01-06 02:15:07 (86.3 MB/s) - ‘helper_functions.py.2’ saved [10246/10246]\n",
            "\n"
          ]
        }
      ],
      "source": [
        "# Get helper functions\n",
        "!wget https://raw.githubusercontent.com/mrdbourke/tensorflow-deep-learning/main/extras/helper_functions.py\n",
        "\n",
        "from helper_functions import unzip_data, create_tensorboard_callback, plot_loss_curves, compare_historys"
      ]
    },
    {
      "cell_type": "code",
      "source": [
        "# load in test and train excel files into colab\n",
        "unzip_data(\"/content/Quotes dataset.zip\")"
      ],
      "metadata": {
        "id": "Ygg-SyCeLBmW"
      },
      "execution_count": null,
      "outputs": []
    },
    {
      "cell_type": "markdown",
      "source": [
        "# Downloading our dataset\n",
        "\n",
        "---\n",
        "\n"
      ],
      "metadata": {
        "id": "nCKrPOsMDvb2"
      }
    },
    {
      "cell_type": "code",
      "source": [
        "# Import excel files into pandas\n",
        "import pandas as pd\n",
        "data = pd.read_excel(\"/content/train.xlsx\")\n",
        "test_data = pd.read_excel(\"/content/Test.xlsx\")\n",
        "train_df = pd.DataFrame(data)\n",
        "test_df = pd.DataFrame(test_data)\n",
        "train_df\n"
      ],
      "metadata": {
        "colab": {
          "base_uri": "https://localhost:8080/",
          "height": 424
        },
        "id": "c3lYG1deT9im",
        "outputId": "36403bdc-30dd-4289-8a52-b1bceb232c53"
      },
      "execution_count": null,
      "outputs": [
        {
          "output_type": "execute_result",
          "data": {
            "text/plain": [
              "      ID  KEYWORD                                               TEXT  TARGET\n",
              "0      1     dead  I’ve learned that life is one crushing defeat ...     1.0\n",
              "1      2      gun  A gun is not a weapon, it’s a tool, like a ham...     1.0\n",
              "2      3   weasel  Weaseling out of things is important to learn;...     1.0\n",
              "3      4     dead              If he’s so smart, how come he’s dead?     1.0\n",
              "4      5    Marge  Marge, you know it’s rude to talk when my mout...     1.0\n",
              "..   ...      ...                                                ...     ...\n",
              "120  121    Homer  Homer, I’d love to chitty-chat, but tonight’s ...     0.0\n",
              "121  122     Call  Call me Delta Airlines, because I can’t handle...     0.0\n",
              "122  123    Homer  Homer, I can’t believe you’re partaking with m...     0.0\n",
              "123  124  Kindest  He’s the kindest, sweetest, most generous guy ...     0.0\n",
              "124  125    Folks  Well, it’s Bart Simpson, come on in! You’re ju...     0.0\n",
              "\n",
              "[125 rows x 4 columns]"
            ],
            "text/html": [
              "\n",
              "  <div id=\"df-e27aaac5-1ccb-4c80-92fd-726839342277\">\n",
              "    <div class=\"colab-df-container\">\n",
              "      <div>\n",
              "<style scoped>\n",
              "    .dataframe tbody tr th:only-of-type {\n",
              "        vertical-align: middle;\n",
              "    }\n",
              "\n",
              "    .dataframe tbody tr th {\n",
              "        vertical-align: top;\n",
              "    }\n",
              "\n",
              "    .dataframe thead th {\n",
              "        text-align: right;\n",
              "    }\n",
              "</style>\n",
              "<table border=\"1\" class=\"dataframe\">\n",
              "  <thead>\n",
              "    <tr style=\"text-align: right;\">\n",
              "      <th></th>\n",
              "      <th>ID</th>\n",
              "      <th>KEYWORD</th>\n",
              "      <th>TEXT</th>\n",
              "      <th>TARGET</th>\n",
              "    </tr>\n",
              "  </thead>\n",
              "  <tbody>\n",
              "    <tr>\n",
              "      <th>0</th>\n",
              "      <td>1</td>\n",
              "      <td>dead</td>\n",
              "      <td>I’ve learned that life is one crushing defeat ...</td>\n",
              "      <td>1.0</td>\n",
              "    </tr>\n",
              "    <tr>\n",
              "      <th>1</th>\n",
              "      <td>2</td>\n",
              "      <td>gun</td>\n",
              "      <td>A gun is not a weapon, it’s a tool, like a ham...</td>\n",
              "      <td>1.0</td>\n",
              "    </tr>\n",
              "    <tr>\n",
              "      <th>2</th>\n",
              "      <td>3</td>\n",
              "      <td>weasel</td>\n",
              "      <td>Weaseling out of things is important to learn;...</td>\n",
              "      <td>1.0</td>\n",
              "    </tr>\n",
              "    <tr>\n",
              "      <th>3</th>\n",
              "      <td>4</td>\n",
              "      <td>dead</td>\n",
              "      <td>If he’s so smart, how come he’s dead?</td>\n",
              "      <td>1.0</td>\n",
              "    </tr>\n",
              "    <tr>\n",
              "      <th>4</th>\n",
              "      <td>5</td>\n",
              "      <td>Marge</td>\n",
              "      <td>Marge, you know it’s rude to talk when my mout...</td>\n",
              "      <td>1.0</td>\n",
              "    </tr>\n",
              "    <tr>\n",
              "      <th>...</th>\n",
              "      <td>...</td>\n",
              "      <td>...</td>\n",
              "      <td>...</td>\n",
              "      <td>...</td>\n",
              "    </tr>\n",
              "    <tr>\n",
              "      <th>120</th>\n",
              "      <td>121</td>\n",
              "      <td>Homer</td>\n",
              "      <td>Homer, I’d love to chitty-chat, but tonight’s ...</td>\n",
              "      <td>0.0</td>\n",
              "    </tr>\n",
              "    <tr>\n",
              "      <th>121</th>\n",
              "      <td>122</td>\n",
              "      <td>Call</td>\n",
              "      <td>Call me Delta Airlines, because I can’t handle...</td>\n",
              "      <td>0.0</td>\n",
              "    </tr>\n",
              "    <tr>\n",
              "      <th>122</th>\n",
              "      <td>123</td>\n",
              "      <td>Homer</td>\n",
              "      <td>Homer, I can’t believe you’re partaking with m...</td>\n",
              "      <td>0.0</td>\n",
              "    </tr>\n",
              "    <tr>\n",
              "      <th>123</th>\n",
              "      <td>124</td>\n",
              "      <td>Kindest</td>\n",
              "      <td>He’s the kindest, sweetest, most generous guy ...</td>\n",
              "      <td>0.0</td>\n",
              "    </tr>\n",
              "    <tr>\n",
              "      <th>124</th>\n",
              "      <td>125</td>\n",
              "      <td>Folks</td>\n",
              "      <td>Well, it’s Bart Simpson, come on in! You’re ju...</td>\n",
              "      <td>0.0</td>\n",
              "    </tr>\n",
              "  </tbody>\n",
              "</table>\n",
              "<p>125 rows × 4 columns</p>\n",
              "</div>\n",
              "      <button class=\"colab-df-convert\" onclick=\"convertToInteractive('df-e27aaac5-1ccb-4c80-92fd-726839342277')\"\n",
              "              title=\"Convert this dataframe to an interactive table.\"\n",
              "              style=\"display:none;\">\n",
              "        \n",
              "  <svg xmlns=\"http://www.w3.org/2000/svg\" height=\"24px\"viewBox=\"0 0 24 24\"\n",
              "       width=\"24px\">\n",
              "    <path d=\"M0 0h24v24H0V0z\" fill=\"none\"/>\n",
              "    <path d=\"M18.56 5.44l.94 2.06.94-2.06 2.06-.94-2.06-.94-.94-2.06-.94 2.06-2.06.94zm-11 1L8.5 8.5l.94-2.06 2.06-.94-2.06-.94L8.5 2.5l-.94 2.06-2.06.94zm10 10l.94 2.06.94-2.06 2.06-.94-2.06-.94-.94-2.06-.94 2.06-2.06.94z\"/><path d=\"M17.41 7.96l-1.37-1.37c-.4-.4-.92-.59-1.43-.59-.52 0-1.04.2-1.43.59L10.3 9.45l-7.72 7.72c-.78.78-.78 2.05 0 2.83L4 21.41c.39.39.9.59 1.41.59.51 0 1.02-.2 1.41-.59l7.78-7.78 2.81-2.81c.8-.78.8-2.07 0-2.86zM5.41 20L4 18.59l7.72-7.72 1.47 1.35L5.41 20z\"/>\n",
              "  </svg>\n",
              "      </button>\n",
              "      \n",
              "  <style>\n",
              "    .colab-df-container {\n",
              "      display:flex;\n",
              "      flex-wrap:wrap;\n",
              "      gap: 12px;\n",
              "    }\n",
              "\n",
              "    .colab-df-convert {\n",
              "      background-color: #E8F0FE;\n",
              "      border: none;\n",
              "      border-radius: 50%;\n",
              "      cursor: pointer;\n",
              "      display: none;\n",
              "      fill: #1967D2;\n",
              "      height: 32px;\n",
              "      padding: 0 0 0 0;\n",
              "      width: 32px;\n",
              "    }\n",
              "\n",
              "    .colab-df-convert:hover {\n",
              "      background-color: #E2EBFA;\n",
              "      box-shadow: 0px 1px 2px rgba(60, 64, 67, 0.3), 0px 1px 3px 1px rgba(60, 64, 67, 0.15);\n",
              "      fill: #174EA6;\n",
              "    }\n",
              "\n",
              "    [theme=dark] .colab-df-convert {\n",
              "      background-color: #3B4455;\n",
              "      fill: #D2E3FC;\n",
              "    }\n",
              "\n",
              "    [theme=dark] .colab-df-convert:hover {\n",
              "      background-color: #434B5C;\n",
              "      box-shadow: 0px 1px 3px 1px rgba(0, 0, 0, 0.15);\n",
              "      filter: drop-shadow(0px 1px 2px rgba(0, 0, 0, 0.3));\n",
              "      fill: #FFFFFF;\n",
              "    }\n",
              "  </style>\n",
              "\n",
              "      <script>\n",
              "        const buttonEl =\n",
              "          document.querySelector('#df-e27aaac5-1ccb-4c80-92fd-726839342277 button.colab-df-convert');\n",
              "        buttonEl.style.display =\n",
              "          google.colab.kernel.accessAllowed ? 'block' : 'none';\n",
              "\n",
              "        async function convertToInteractive(key) {\n",
              "          const element = document.querySelector('#df-e27aaac5-1ccb-4c80-92fd-726839342277');\n",
              "          const dataTable =\n",
              "            await google.colab.kernel.invokeFunction('convertToInteractive',\n",
              "                                                     [key], {});\n",
              "          if (!dataTable) return;\n",
              "\n",
              "          const docLinkHtml = 'Like what you see? Visit the ' +\n",
              "            '<a target=\"_blank\" href=https://colab.research.google.com/notebooks/data_table.ipynb>data table notebook</a>'\n",
              "            + ' to learn more about interactive tables.';\n",
              "          element.innerHTML = '';\n",
              "          dataTable['output_type'] = 'display_data';\n",
              "          await google.colab.output.renderOutput(dataTable, element);\n",
              "          const docLink = document.createElement('div');\n",
              "          docLink.innerHTML = docLinkHtml;\n",
              "          element.appendChild(docLink);\n",
              "        }\n",
              "      </script>\n",
              "    </div>\n",
              "  </div>\n",
              "  "
            ]
          },
          "metadata": {},
          "execution_count": 8
        }
      ]
    },
    {
      "cell_type": "code",
      "source": [
        "# Drop NAN values from datasets\n",
        "import numpy as np\n",
        "train_df_shuffled_3 = train_df.fillna(999, inplace=True)\n",
        "train_df_shuffled_3"
      ],
      "metadata": {
        "id": "0887GnZ0Ni4q"
      },
      "execution_count": null,
      "outputs": []
    },
    {
      "cell_type": "code",
      "source": [
        "# Shuffle training data\n",
        "train_df_shuffled_3 = train_df.sample(frac = 1)\n",
        "len(train_df_shuffled_3)"
      ],
      "metadata": {
        "colab": {
          "base_uri": "https://localhost:8080/"
        },
        "id": "q3mo_NdX7pwi",
        "outputId": "96d4bb8a-752b-43d4-94b5-473a5333efde"
      },
      "execution_count": null,
      "outputs": [
        {
          "output_type": "execute_result",
          "data": {
            "text/plain": [
              "125"
            ]
          },
          "metadata": {},
          "execution_count": 10
        }
      ]
    },
    {
      "cell_type": "code",
      "source": [
        "# How many samples total?\n",
        "print(f\"Total training samples: {len(train_df)}\")\n",
        "print(f\"Total test samples: {len(test_df)}\")\n",
        "print(f\"Total samples: {len(train_df) + len(test_df)}\")"
      ],
      "metadata": {
        "colab": {
          "base_uri": "https://localhost:8080/"
        },
        "id": "n4jLLaM6ABYa",
        "outputId": "6e30ec03-1cca-4010-9f4b-de23f1208801"
      },
      "execution_count": null,
      "outputs": [
        {
          "output_type": "stream",
          "name": "stdout",
          "text": [
            "Total training samples: 125\n",
            "Total test samples: 60\n",
            "Total samples: 185\n"
          ]
        }
      ]
    },
    {
      "cell_type": "markdown",
      "source": [
        "# Spliting data into training and validation set"
      ],
      "metadata": {
        "id": "D3XZHiGHC12h"
      }
    },
    {
      "cell_type": "code",
      "source": [
        "from sklearn.model_selection import train_test_split\n",
        "\n",
        "# Use train_test_split to split training data into training and validation sets\n",
        "train_sentences, val_sentences, train_labels, val_labels = train_test_split(train_df_shuffled_3[\"TEXT\"].to_numpy(),\n",
        "                                                                            train_df_shuffled_3[\"TARGET\"].to_numpy(),\n",
        "                                                                            test_size=0.1, # dedicate 10% of samples to validation set\n",
        "                                                                            random_state=42) # random state for reproducibility"
      ],
      "metadata": {
        "id": "xYKeq5dWC9FU"
      },
      "execution_count": null,
      "outputs": []
    },
    {
      "cell_type": "markdown",
      "source": [
        "# Convert text to numbers.\n",
        "# Note: This is for demonstration puurposes only, as later I will be building a pretrained model, that comes with it's own text vectorizer layer"
      ],
      "metadata": {
        "id": "lOOVLIceFVVv"
      }
    },
    {
      "cell_type": "code",
      "source": [
        "# Find average number of tokens (words) in training set\n",
        "round(sum([len(i.split()) for i in train_sentences])/len(train_sentences))"
      ],
      "metadata": {
        "colab": {
          "base_uri": "https://localhost:8080/"
        },
        "id": "kYzGNJKIIoak",
        "outputId": "a88fc50c-d89b-4c1f-c68f-9be00e6c99a1"
      },
      "execution_count": null,
      "outputs": [
        {
          "output_type": "execute_result",
          "data": {
            "text/plain": [
              "16"
            ]
          },
          "metadata": {},
          "execution_count": 13
        }
      ]
    },
    {
      "cell_type": "code",
      "source": [
        "# Setup text vectorization with custom variables\n",
        "import tensorflow as tf\n",
        "from tensorflow.keras.layers.experimental.preprocessing import TextVectorization\n",
        "max_vocab_length = 1000\n",
        "max_length = 16\n",
        "\n",
        "text_vectorizer = TextVectorization(max_tokens=max_vocab_length,\n",
        "                                    output_mode=\"int\",\n",
        "                                    output_sequence_length=max_length)"
      ],
      "metadata": {
        "id": "71xyxpyGIuFM"
      },
      "execution_count": null,
      "outputs": []
    },
    {
      "cell_type": "code",
      "source": [
        "# Fit the text vectorizer to the training text\n",
        "text_vectorizer.adapt(train_sentences)"
      ],
      "metadata": {
        "id": "jY10CS42Iz-h"
      },
      "execution_count": null,
      "outputs": []
    },
    {
      "cell_type": "code",
      "source": [
        "# Create sample sentence and tokenize it\n",
        "sample_sentence = \"Doh!\"\n",
        "text_vectorizer([sample_sentence])"
      ],
      "metadata": {
        "id": "V6hMj1-1I3aQ",
        "colab": {
          "base_uri": "https://localhost:8080/"
        },
        "outputId": "41f5a0d9-7d98-406f-af24-4c84d6363eda"
      },
      "execution_count": null,
      "outputs": [
        {
          "output_type": "execute_result",
          "data": {
            "text/plain": [
              "<tf.Tensor: shape=(1, 16), dtype=int64, numpy=array([[1, 0, 0, 0, 0, 0, 0, 0, 0, 0, 0, 0, 0, 0, 0, 0]])>"
            ]
          },
          "metadata": {},
          "execution_count": 16
        }
      ]
    },
    {
      "cell_type": "code",
      "source": [
        "# Choose a random sentence from the training dataset and tokenize it\n",
        "import random\n",
        "random_sentence = random.choice(train_sentences)\n",
        "print(f\"Original text:\\n{random_sentence}\\\n",
        "      \\n\\nVectorized version:\")\n",
        "text_vectorizer([random_sentence])"
      ],
      "metadata": {
        "id": "z3e-F8yeI-1w",
        "colab": {
          "base_uri": "https://localhost:8080/"
        },
        "outputId": "eac10761-7fa4-41da-ffb2-336dff07aec4"
      },
      "execution_count": null,
      "outputs": [
        {
          "output_type": "stream",
          "name": "stdout",
          "text": [
            "Original text:\n",
            "There are some things we don’t want to know. Important things.      \n",
            "\n",
            "Vectorized version:\n"
          ]
        },
        {
          "output_type": "execute_result",
          "data": {
            "text/plain": [
              "<tf.Tensor: shape=(1, 16), dtype=int64, numpy=\n",
              "array([[ 57,  36,  73,  32,  37,  11,  54,   4,  61, 218,  32,   0,   0,\n",
              "          0,   0,   0]])>"
            ]
          },
          "metadata": {},
          "execution_count": 17
        }
      ]
    },
    {
      "cell_type": "code",
      "source": [
        "# Get the unique words in the vocabulary\n",
        "words_in_vocab = text_vectorizer.get_vocabulary()\n",
        "top_5_words = words_in_vocab[:5] # most common tokens (notice the [UNK] token for \"unknown\" words)\n",
        "bottom_5_words = words_in_vocab[-5:] # least common tokens\n",
        "print(f\"Number of words in vocab: {len(words_in_vocab)}\")\n",
        "print(f\"Top 5 most common words: {top_5_words}\") \n",
        "print(f\"Bottom 5 least common words: {bottom_5_words}\")"
      ],
      "metadata": {
        "id": "2uuHbtPSJJk8",
        "colab": {
          "base_uri": "https://localhost:8080/"
        },
        "outputId": "d5b86b3f-1807-4604-acde-f9535050aa53"
      },
      "execution_count": null,
      "outputs": [
        {
          "output_type": "stream",
          "name": "stdout",
          "text": [
            "Number of words in vocab: 577\n",
            "Top 5 most common words: ['', '[UNK]', 'you', 'i', 'to']\n",
            "Bottom 5 least common words: ['alright', 'airlines', 'after', 'across', 'able']\n"
          ]
        }
      ]
    },
    {
      "cell_type": "markdown",
      "source": [
        "\n",
        "\n",
        "```\n",
        "# This is formatted as code\n",
        "```\n",
        "\n",
        "# Create an embedding layer\n",
        "# Note: Again I will not be using this for our model, since the pretrained one comes with an embedding layer as well."
      ],
      "metadata": {
        "id": "y_3QjbJmJUD8"
      }
    },
    {
      "cell_type": "code",
      "source": [
        "tf.random.set_seed(42)\n",
        "from tensorflow.keras import layers\n",
        "\n",
        "embedding = layers.Embedding(input_dim=max_vocab_length, # set input shape\n",
        "                             output_dim=128, # set size of embedding vector\n",
        "                             embeddings_initializer=\"uniform\", # default, intialize randomly\n",
        "                             input_length=max_length, # how long is each input\n",
        "                             name=\"embedding_1\") \n",
        "\n",
        "embedding"
      ],
      "metadata": {
        "id": "87QJ7rSsJZ6J",
        "colab": {
          "base_uri": "https://localhost:8080/"
        },
        "outputId": "56afae63-a9f1-4276-cf73-2a75adbc4a7f"
      },
      "execution_count": null,
      "outputs": [
        {
          "output_type": "execute_result",
          "data": {
            "text/plain": [
              "<keras.layers.core.embedding.Embedding at 0x7fd622d67b50>"
            ]
          },
          "metadata": {},
          "execution_count": 19
        }
      ]
    },
    {
      "cell_type": "code",
      "source": [
        "# Get a random sentence from training set\n",
        "random_sentence = random.choice(train_sentences)\n",
        "print(f\"Original text:\\n{random_sentence}\\\n",
        "      \\n\\nEmbedded version:\")\n",
        "\n",
        "# Embed the random sentence (turn it into numerical representation)\n",
        "sample_embed = embedding(text_vectorizer([random_sentence]))\n",
        "sample_embed"
      ],
      "metadata": {
        "id": "XWf9r8ajJ4WC",
        "colab": {
          "base_uri": "https://localhost:8080/"
        },
        "outputId": "40952ee3-13cf-4383-ba5c-51725451c5b4"
      },
      "execution_count": null,
      "outputs": [
        {
          "output_type": "stream",
          "name": "stdout",
          "text": [
            "Original text:\n",
            "All right, brain. You don’t like me and I don’t like you, but let’s just do this and I can get back to killing you with beer.      \n",
            "\n",
            "Embedded version:\n"
          ]
        },
        {
          "output_type": "execute_result",
          "data": {
            "text/plain": [
              "<tf.Tensor: shape=(1, 16, 128), dtype=float32, numpy=\n",
              "array([[[-0.01299536, -0.03285937,  0.02369577, ...,  0.01118424,\n",
              "         -0.04721683,  0.00531303],\n",
              "        [-0.024382  ,  0.00070715,  0.00269014, ...,  0.01255615,\n",
              "         -0.03073683, -0.03106214],\n",
              "        [-0.0041585 ,  0.00584383,  0.00529372, ...,  0.04984415,\n",
              "         -0.02270833, -0.00952915],\n",
              "        ...,\n",
              "        [ 0.04808941, -0.04536462,  0.03222281, ..., -0.03928091,\n",
              "          0.01089339,  0.03936294],\n",
              "        [ 0.04978979, -0.0019431 , -0.00039934, ..., -0.01621551,\n",
              "          0.03926425,  0.02467387],\n",
              "        [-0.02971206,  0.02606628, -0.01831409, ..., -0.01888737,\n",
              "          0.04710903,  0.01127892]]], dtype=float32)>"
            ]
          },
          "metadata": {},
          "execution_count": 20
        }
      ]
    },
    {
      "cell_type": "markdown",
      "source": [
        "# Creating a baseline model"
      ],
      "metadata": {
        "id": "Nd6cLEaNKHVu"
      }
    },
    {
      "cell_type": "code",
      "source": [
        "from sklearn.feature_extraction.text import TfidfVectorizer\n",
        "from sklearn.naive_bayes import MultinomialNB\n",
        "from sklearn.pipeline import Pipeline\n",
        "\n",
        "# Create tokenization and modelling pipeline\n",
        "model_0 = Pipeline([\n",
        "                    (\"tfidf\", TfidfVectorizer()), # convert words to numbers using tfidf\n",
        "                    (\"clf\", MultinomialNB()) # model the text\n",
        "])\n",
        "\n",
        "# Fit the pipeline to the training data\n",
        "model_0.fit(train_sentences, train_labels)\n",
        "\n",
        "baseline_score = model_0.score(val_sentences, val_labels)\n",
        "print(f\"Our baseline model achieves an accuracy of: {baseline_score*100:.2f}%\")"
      ],
      "metadata": {
        "id": "_Z_NohksKL7M",
        "colab": {
          "base_uri": "https://localhost:8080/"
        },
        "outputId": "78bacb1f-e32d-462a-ac9f-8c61f96373d0"
      },
      "execution_count": null,
      "outputs": [
        {
          "output_type": "stream",
          "name": "stdout",
          "text": [
            "Our baseline model achieves an accuracy of: 38.46%\n"
          ]
        }
      ]
    },
    {
      "cell_type": "code",
      "source": [
        "# Make predictions\n",
        "baseline_preds = model_0.predict(val_sentences)\n",
        "baseline_preds[:20]"
      ],
      "metadata": {
        "id": "LxtGNQvJOYuI",
        "colab": {
          "base_uri": "https://localhost:8080/"
        },
        "outputId": "454291b0-b887-4700-edf4-537fb3754403"
      },
      "execution_count": null,
      "outputs": [
        {
          "output_type": "execute_result",
          "data": {
            "text/plain": [
              "array([1., 1., 1., 1., 0., 1., 1., 1., 1., 1., 1., 1., 1.])"
            ]
          },
          "metadata": {},
          "execution_count": 22
        }
      ]
    },
    {
      "cell_type": "markdown",
      "source": [
        "# Creating an evaluation function for our model experiments"
      ],
      "metadata": {
        "id": "r6WoELF-Osj7"
      }
    },
    {
      "cell_type": "code",
      "source": [
        "# Function to evaluate: accuracy, precision, recall, f1-score\n",
        "from sklearn.metrics import accuracy_score, precision_recall_fscore_support\n",
        "\n",
        "def calculate_results(y_true, y_pred):\n",
        "  \"\"\"\n",
        "  Calculates model accuracy, precision, recall and f1 score of a binary classification model.\n",
        "\n",
        "  Args:\n",
        "  -----\n",
        "  y_true = true labels in the form of a 1D array\n",
        "  y_pred = predicted labels in the form of a 1D array\n",
        "\n",
        "  Returns a dictionary of accuracy, precision, recall, f1-score.\n",
        "  \"\"\"\n",
        "  # Calculate model accuracy\n",
        "  model_accuracy = accuracy_score(y_true, y_pred) * 100\n",
        "  # Calculate model precision, recall and f1 score using \"weighted\" average\n",
        "  model_precision, model_recall, model_f1, _ = precision_recall_fscore_support(y_true, y_pred, average=\"weighted\")\n",
        "  model_results = {\"accuracy\": model_accuracy,\n",
        "                  \"precision\": model_precision,\n",
        "                  \"recall\": model_recall,\n",
        "                  \"f1\": model_f1}\n",
        "  return model_results"
      ],
      "metadata": {
        "id": "XSVDR0TxOuwE"
      },
      "execution_count": null,
      "outputs": []
    },
    {
      "cell_type": "code",
      "source": [
        "# Get baseline results\n",
        "baseline_results = calculate_results(y_true=val_labels,\n",
        "                                     y_pred=baseline_preds)\n",
        "baseline_results"
      ],
      "metadata": {
        "id": "ih2hykwCPdTu",
        "colab": {
          "base_uri": "https://localhost:8080/"
        },
        "outputId": "ec3b9979-41d7-4713-fee9-81c59b1c08c9"
      },
      "execution_count": null,
      "outputs": [
        {
          "output_type": "execute_result",
          "data": {
            "text/plain": [
              "{'accuracy': 38.46153846153847,\n",
              " 'precision': 0.7948717948717949,\n",
              " 'recall': 0.38461538461538464,\n",
              " 'f1': 0.29230769230769227}"
            ]
          },
          "metadata": {},
          "execution_count": 24
        }
      ]
    },
    {
      "cell_type": "markdown",
      "source": [
        "# Build a model with TensorFlow Hub Pretrained Sentence Encoder"
      ],
      "metadata": {
        "id": "3l5oGDTGP4Zv"
      }
    },
    {
      "cell_type": "code",
      "source": [
        "# Example of pretrained embedding with universal sentence encoder - https://tfhub.dev/google/universal-sentence-encoder/4\n",
        "import tensorflow_hub as hub\n",
        "embed = hub.load(\"https://tfhub.dev/google/universal-sentence-encoder/4\") # load Universal Sentence Encoder\n",
        "embed_samples = embed([sample_sentence,\n",
        "                      \"When you call the universal sentence encoder on a sentence, it turns it into numbers.\"])\n",
        "\n",
        "print(embed_samples[0][:50])"
      ],
      "metadata": {
        "id": "Bafn7r_EQABm",
        "colab": {
          "base_uri": "https://localhost:8080/"
        },
        "outputId": "007787e9-c7f1-4ba1-f355-aafe94a1d798"
      },
      "execution_count": null,
      "outputs": [
        {
          "output_type": "stream",
          "name": "stdout",
          "text": [
            "tf.Tensor(\n",
            "[-0.03126131 -0.01274797 -0.00654278 -0.00387086  0.0249747   0.04729778\n",
            "  0.03468437 -0.0512713  -0.00527914  0.03141837  0.01844031  0.02338649\n",
            " -0.00381352  0.01579623 -0.03729814  0.01848715 -0.03050391  0.07419645\n",
            "  0.02892086  0.05966044 -0.03032556  0.0115238   0.00197295  0.0265187\n",
            " -0.01401997 -0.02775035 -0.02939904  0.02237395  0.02709572 -0.01903179\n",
            " -0.01956608  0.00514684 -0.03970383 -0.01524145 -0.01797794 -0.03875121\n",
            " -0.0426767   0.0225762   0.04689171  0.01904346  0.01198152 -0.01196674\n",
            "  0.01235088  0.05598375 -0.07745321 -0.00541877 -0.0684968  -0.04368059\n",
            " -0.05208568 -0.01977972], shape=(50,), dtype=float32)\n"
          ]
        }
      ]
    },
    {
      "cell_type": "code",
      "source": [
        "# We can use this encoding layer in place of our text_vectorizer and embedding layer\n",
        "sentence_encoder_layer = hub.KerasLayer(\"https://tfhub.dev/google/universal-sentence-encoder/4\",\n",
        "                                        input_shape=[], # shape of inputs coming to our model \n",
        "                                        dtype=tf.string, # data type of inputs coming to the USE layer\n",
        "                                        trainable=False, # keep the pretrained weights (we'll create a feature extractor)\n",
        "                                        name=\"USE\")"
      ],
      "metadata": {
        "id": "0jGkQTt6QXVj"
      },
      "execution_count": null,
      "outputs": []
    },
    {
      "cell_type": "code",
      "source": [
        "# Create tensorboard callback (need to create a new one for each model)\n",
        "from helper_functions import create_tensorboard_callback\n",
        "\n",
        "# Create directory to save TensorBoard logs\n",
        "SAVE_DIR = \"model_logs\""
      ],
      "metadata": {
        "id": "VfgzmgARSyzR"
      },
      "execution_count": null,
      "outputs": []
    },
    {
      "cell_type": "code",
      "source": [
        "# Create model \n",
        "model = tf.keras.Sequential([\n",
        "  sentence_encoder_layer, \n",
        "  layers.Dense(64, activation=\"relu\"),\n",
        "  layers.Dense(1, activation=\"sigmoid\")\n",
        "], name=\"model_USE\")\n",
        "\n",
        "\n",
        "model.compile(loss=\"binary_crossentropy\",\n",
        "                optimizer=tf.keras.optimizers.Adam(),\n",
        "                metrics=[\"accuracy\"])\n",
        "\n",
        "model.summary()"
      ],
      "metadata": {
        "id": "2zOW2h3aQgbK",
        "colab": {
          "base_uri": "https://localhost:8080/"
        },
        "outputId": "fa2e7d7b-dde4-4deb-fc66-4790908d94db"
      },
      "execution_count": null,
      "outputs": [
        {
          "output_type": "stream",
          "name": "stdout",
          "text": [
            "Model: \"model_USE\"\n",
            "_________________________________________________________________\n",
            " Layer (type)                Output Shape              Param #   \n",
            "=================================================================\n",
            " USE (KerasLayer)            (None, 512)               256797824 \n",
            "                                                                 \n",
            " dense (Dense)               (None, 64)                32832     \n",
            "                                                                 \n",
            " dense_1 (Dense)             (None, 1)                 65        \n",
            "                                                                 \n",
            "=================================================================\n",
            "Total params: 256,830,721\n",
            "Trainable params: 32,897\n",
            "Non-trainable params: 256,797,824\n",
            "_________________________________________________________________\n"
          ]
        }
      ]
    },
    {
      "cell_type": "code",
      "source": [
        "# Train a classifier on top of pretrained embeddings\n",
        "model__history = model.fit(train_sentences,\n",
        "                              train_labels,\n",
        "                              epochs=5,\n",
        "                              validation_data=(val_sentences, val_labels),\n",
        "                              callbacks=[create_tensorboard_callback(SAVE_DIR, \n",
        "                                                                     \"tf_hub_sentence_encoder\")])"
      ],
      "metadata": {
        "id": "MIwTfb-FSVp4",
        "colab": {
          "base_uri": "https://localhost:8080/"
        },
        "outputId": "f1ef5268-2232-4dcd-d20d-c4545b261f1e"
      },
      "execution_count": null,
      "outputs": [
        {
          "output_type": "stream",
          "name": "stdout",
          "text": [
            "Saving TensorBoard log files to: model_logs/tf_hub_sentence_encoder/20230106-021545\n",
            "Epoch 1/5\n",
            "4/4 [==============================] - 3s 181ms/step - loss: 0.7423 - accuracy: 0.5446 - val_loss: 0.6660 - val_accuracy: 0.6923\n",
            "Epoch 2/5\n",
            "4/4 [==============================] - 0s 20ms/step - loss: -4.0566 - accuracy: 0.7500 - val_loss: 0.6723 - val_accuracy: 0.6154\n",
            "Epoch 3/5\n",
            "4/4 [==============================] - 0s 21ms/step - loss: -6.4136 - accuracy: 0.7143 - val_loss: 0.6780 - val_accuracy: 0.3846\n",
            "Epoch 4/5\n",
            "4/4 [==============================] - 0s 22ms/step - loss: -8.5986 - accuracy: 0.6696 - val_loss: 0.6834 - val_accuracy: 0.3846\n",
            "Epoch 5/5\n",
            "4/4 [==============================] - 0s 22ms/step - loss: -11.5631 - accuracy: 0.6518 - val_loss: 0.6880 - val_accuracy: 0.3846\n"
          ]
        }
      ]
    },
    {
      "cell_type": "code",
      "source": [
        "# Make predictions with USE TF Hub model\n",
        "model_pred_probs = model.predict(val_sentences)\n",
        "model_pred_probs[:10]"
      ],
      "metadata": {
        "id": "0F3SntqCS4mT",
        "colab": {
          "base_uri": "https://localhost:8080/"
        },
        "outputId": "42eec946-e0fe-4611-eceb-5df98dc07c04"
      },
      "execution_count": null,
      "outputs": [
        {
          "output_type": "stream",
          "name": "stdout",
          "text": [
            "1/1 [==============================] - 0s 417ms/step\n"
          ]
        },
        {
          "output_type": "execute_result",
          "data": {
            "text/plain": [
              "array([[0.54189664],\n",
              "       [0.54097545],\n",
              "       [0.6389879 ],\n",
              "       [0.5813119 ],\n",
              "       [0.56947947],\n",
              "       [0.5431404 ],\n",
              "       [0.56268734],\n",
              "       [0.5087847 ],\n",
              "       [0.5495334 ],\n",
              "       [0.5166052 ]], dtype=float32)"
            ]
          },
          "metadata": {},
          "execution_count": 30
        }
      ]
    },
    {
      "cell_type": "code",
      "source": [
        "# Convert prediction probabilities to labels\n",
        "model_preds = tf.squeeze(tf.round(model_pred_probs))\n",
        "model_preds[:10]"
      ],
      "metadata": {
        "id": "GMjRbb-kTEJ7",
        "colab": {
          "base_uri": "https://localhost:8080/"
        },
        "outputId": "d9ca1563-84b5-42a6-fb7c-ec5b0d3c4939"
      },
      "execution_count": null,
      "outputs": [
        {
          "output_type": "execute_result",
          "data": {
            "text/plain": [
              "<tf.Tensor: shape=(10,), dtype=float32, numpy=array([1., 1., 1., 1., 1., 1., 1., 1., 1., 1.], dtype=float32)>"
            ]
          },
          "metadata": {},
          "execution_count": 31
        }
      ]
    },
    {
      "cell_type": "code",
      "source": [
        "# Calculate model performance metrics\n",
        "model_results = calculate_results(val_labels, model_preds)\n",
        "model_results"
      ],
      "metadata": {
        "id": "LYREyaIfTRYL",
        "colab": {
          "base_uri": "https://localhost:8080/"
        },
        "outputId": "96b60941-9bcb-4981-9601-717b350fbae3"
      },
      "execution_count": null,
      "outputs": [
        {
          "output_type": "execute_result",
          "data": {
            "text/plain": [
              "{'accuracy': 38.46153846153847,\n",
              " 'precision': 0.7948717948717949,\n",
              " 'recall': 0.38461538461538464,\n",
              " 'f1': 0.29230769230769227}"
            ]
          },
          "metadata": {},
          "execution_count": 32
        }
      ]
    },
    {
      "cell_type": "markdown",
      "source": [
        "# Build another model with 10% of data"
      ],
      "metadata": {
        "id": "HIPhmMTBajlN"
      }
    },
    {
      "cell_type": "code",
      "source": [
        "# (split the already split train_sentences/train_labels)\n",
        "\n",
        "train_sentences_90_percent, train_sentences_10_percent, train_labels_90_percent, train_labels_10_percent = train_test_split(np.array(train_sentences),\n",
        "                                                                                                                            train_labels,\n",
        "                                                                                                                            test_size=0.1,\n",
        "                                                                                                                            random_state=42)\n",
        "\n"
      ],
      "metadata": {
        "id": "FENUV5htaqCQ"
      },
      "execution_count": null,
      "outputs": []
    },
    {
      "cell_type": "code",
      "source": [
        "# Clone model but reset weights\n",
        "model_2 = tf.keras.models.clone_model(model)\n",
        "\n",
        "# Compile model\n",
        "model_2.compile(loss=\"binary_crossentropy\",\n",
        "                optimizer=tf.keras.optimizers.Adam(),\n",
        "                metrics=[\"accuracy\"])\n",
        "\n",
        "# Get a summary (will be same as model)\n",
        "model_2.summary()"
      ],
      "metadata": {
        "id": "ivj7audxawXZ",
        "colab": {
          "base_uri": "https://localhost:8080/"
        },
        "outputId": "56b3136f-6e32-4eaf-c70a-6d5921f8d731"
      },
      "execution_count": null,
      "outputs": [
        {
          "output_type": "stream",
          "name": "stdout",
          "text": [
            "Model: \"model_USE\"\n",
            "_________________________________________________________________\n",
            " Layer (type)                Output Shape              Param #   \n",
            "=================================================================\n",
            " USE (KerasLayer)            (None, 512)               256797824 \n",
            "                                                                 \n",
            " dense (Dense)               (None, 64)                32832     \n",
            "                                                                 \n",
            " dense_1 (Dense)             (None, 1)                 65        \n",
            "                                                                 \n",
            "=================================================================\n",
            "Total params: 256,830,721\n",
            "Trainable params: 32,897\n",
            "Non-trainable params: 256,797,824\n",
            "_________________________________________________________________\n"
          ]
        }
      ]
    },
    {
      "cell_type": "code",
      "source": [
        "# Fit the model to 10% of the training data\n",
        "model_2_history = model_2.fit(x=train_sentences_10_percent,\n",
        "                              y=train_labels_10_percent,\n",
        "                              epochs=5,\n",
        "                              validation_data=(val_sentences, val_labels),\n",
        "                              callbacks=[create_tensorboard_callback(SAVE_DIR, \"10_percent_tf_hub_sentence_encoder\")])"
      ],
      "metadata": {
        "id": "7BhJqf3Wa2cG",
        "colab": {
          "base_uri": "https://localhost:8080/"
        },
        "outputId": "ce9042ad-7dc1-4c10-db03-add1963c132b"
      },
      "execution_count": null,
      "outputs": [
        {
          "output_type": "stream",
          "name": "stdout",
          "text": [
            "Saving TensorBoard log files to: model_logs/10_percent_tf_hub_sentence_encoder/20230106-021554\n",
            "Epoch 1/5\n",
            "1/1 [==============================] - 3s 3s/step - loss: 0.7133 - accuracy: 0.1667 - val_loss: 0.6950 - val_accuracy: 0.4615\n",
            "Epoch 2/5\n",
            "1/1 [==============================] - 0s 58ms/step - loss: 0.6940 - accuracy: 0.4167 - val_loss: 0.6981 - val_accuracy: 0.3846\n",
            "Epoch 3/5\n",
            "1/1 [==============================] - 0s 57ms/step - loss: 0.6757 - accuracy: 0.8333 - val_loss: 0.7012 - val_accuracy: 0.2308\n",
            "Epoch 4/5\n",
            "1/1 [==============================] - 0s 47ms/step - loss: 0.6586 - accuracy: 0.9167 - val_loss: 0.7042 - val_accuracy: 0.3077\n",
            "Epoch 5/5\n",
            "1/1 [==============================] - 0s 58ms/step - loss: 0.6428 - accuracy: 1.0000 - val_loss: 0.7073 - val_accuracy: 0.3077\n"
          ]
        }
      ]
    },
    {
      "cell_type": "code",
      "source": [
        "# Make predictions with the model trained on 10% of the data\n",
        "model_2_pred_probs = model_2.predict(val_sentences)\n",
        "model_2_pred_probs[:10]"
      ],
      "metadata": {
        "id": "cQdg7tsLa_W8",
        "colab": {
          "base_uri": "https://localhost:8080/"
        },
        "outputId": "595169fc-5e43-420b-926e-2d5a118a4dd8"
      },
      "execution_count": null,
      "outputs": [
        {
          "output_type": "stream",
          "name": "stdout",
          "text": [
            "1/1 [==============================] - 0s 355ms/step\n"
          ]
        },
        {
          "output_type": "execute_result",
          "data": {
            "text/plain": [
              "array([[0.53272027],\n",
              "       [0.5289256 ],\n",
              "       [0.5067132 ],\n",
              "       [0.5047606 ],\n",
              "       [0.51007384],\n",
              "       [0.5139684 ],\n",
              "       [0.53226644],\n",
              "       [0.50862956],\n",
              "       [0.5077415 ],\n",
              "       [0.53110844]], dtype=float32)"
            ]
          },
          "metadata": {},
          "execution_count": 36
        }
      ]
    },
    {
      "cell_type": "code",
      "source": [
        "# Convert prediction probabilities to labels\n",
        "model_2_preds = tf.squeeze(tf.round(model_2_pred_probs))\n",
        "model_2_preds[:10]"
      ],
      "metadata": {
        "id": "gWupAGPdbDSE",
        "colab": {
          "base_uri": "https://localhost:8080/"
        },
        "outputId": "b78d3ee6-9bd2-40d0-88f4-9090adfc8ff7"
      },
      "execution_count": null,
      "outputs": [
        {
          "output_type": "execute_result",
          "data": {
            "text/plain": [
              "<tf.Tensor: shape=(10,), dtype=float32, numpy=array([1., 1., 1., 1., 1., 1., 1., 1., 1., 1.], dtype=float32)>"
            ]
          },
          "metadata": {},
          "execution_count": 37
        }
      ]
    },
    {
      "cell_type": "code",
      "source": [
        "# Calculate model results\n",
        "model_2_results = calculate_results(val_labels, model_2_preds)\n",
        "model_2_results"
      ],
      "metadata": {
        "id": "ANXa03xlbJzx",
        "colab": {
          "base_uri": "https://localhost:8080/"
        },
        "outputId": "46b61a3d-095a-430e-b533-300ae5282cf1"
      },
      "execution_count": null,
      "outputs": [
        {
          "output_type": "stream",
          "name": "stderr",
          "text": [
            "/usr/local/lib/python3.8/dist-packages/sklearn/metrics/_classification.py:1318: UndefinedMetricWarning: Precision and F-score are ill-defined and being set to 0.0 in labels with no predicted samples. Use `zero_division` parameter to control this behavior.\n",
            "  _warn_prf(average, modifier, msg_start, len(result))\n"
          ]
        },
        {
          "output_type": "execute_result",
          "data": {
            "text/plain": [
              "{'accuracy': 30.76923076923077,\n",
              " 'precision': 0.09467455621301776,\n",
              " 'recall': 0.3076923076923077,\n",
              " 'f1': 0.14479638009049772}"
            ]
          },
          "metadata": {},
          "execution_count": 38
        }
      ]
    },
    {
      "cell_type": "markdown",
      "source": [
        "# Make prediction with quote data hasnt seen before"
      ],
      "metadata": {
        "id": "iF4BY2HCV-sb"
      }
    },
    {
      "cell_type": "code",
      "source": [
        "# Unzip pictures of homer and flanders quotes\n",
        "unzip_data(\"/content/homer and flanders pics.zip\")"
      ],
      "metadata": {
        "id": "QLoYtN48Nsfy"
      },
      "execution_count": null,
      "outputs": []
    },
    {
      "cell_type": "code",
      "source": [
        "# Show image of homer quote and convert to string\n",
        "from IPython.display import display, Image\n",
        "display(Image(filename='/content/Screenshot 2023-01-05 210515.jpg'))\n",
        "homers_quote = \"I believe that children are the future unless we stop them now\""
      ],
      "metadata": {
        "id": "Pz5G6b7CWHPN",
        "colab": {
          "base_uri": "https://localhost:8080/",
          "height": 544
        },
        "outputId": "4669a647-e6bc-4ce7-81a3-435f014d9c30"
      },
      "execution_count": null,
      "outputs": [
        {
          "output_type": "display_data",
          "data": {
            "image/jpeg": "[encoded data removed]",
            "text/plain": [
              "<IPython.core.display.Image object>"
            ]
          },
          "metadata": {}
        }
      ]
    },
    {
      "cell_type": "code",
      "source": [
        "# Create a function that will make predictions\n",
        "def predict_on_sentence(model, sentence):\n",
        "  \"\"\"\n",
        "  Uses model to make a prediction on sentence.\n",
        "\n",
        "  Returns the sentence, the predicted label and the prediction probability.\n",
        "  \"\"\"\n",
        "  pred_prob = model.predict([sentence])\n",
        "  pred_label = tf.squeeze(tf.round(pred_prob)).numpy()\n",
        "  print(f\"Prediction: {pred_label}\", \"(The model predicts homer said this)\" if pred_label > 0 else \"(The model predicts Flanders said this)\", f\"Prob: {pred_prob[0][0]}\")\n",
        "  print(f\"Quote:\\n{sentence}\")"
      ],
      "metadata": {
        "id": "C-yG1pHsXJJE"
      },
      "execution_count": null,
      "outputs": []
    },
    {
      "cell_type": "code",
      "source": [
        "# Make a prediction on homer quote\n",
        "predict_on_sentence(model= model_2, \n",
        "                    sentence=homers_quote)"
      ],
      "metadata": {
        "id": "rP-tKmiHXXfD",
        "colab": {
          "base_uri": "https://localhost:8080/"
        },
        "outputId": "934963b6-84d3-40a7-8895-582731b6a7ef"
      },
      "execution_count": null,
      "outputs": [
        {
          "output_type": "stream",
          "name": "stdout",
          "text": [
            "1/1 [==============================] - 0s 31ms/step\n",
            "Prediction: 1.0 (The model predicts homer said this) Prob: 0.5262690186500549\n",
            "Quote:\n",
            "I believe that children are the future unless we stop them now\n"
          ]
        }
      ]
    },
    {
      "cell_type": "code",
      "source": [
        "# Now lets try for Flanders\n",
        "from IPython.display import display, Image\n",
        "display(Image(filename='/content/tumblr_ljkq7eN8J31qhqqmto1_500.jpg'))\n",
        "Flanders_quote = \"I got tickets to a Christian rock concert\"\n"
      ],
      "metadata": {
        "id": "DbjOJ1DCX-J-",
        "colab": {
          "base_uri": "https://localhost:8080/",
          "height": 767
        },
        "outputId": "3586ddd7-98d6-4cc9-ada9-377197785f46"
      },
      "execution_count": null,
      "outputs": [
        {
          "output_type": "display_data",
          "data": {
            "image/jpeg": "[encoded data removed]",
            "text/plain": [
              "<IPython.core.display.Image object>"
            ]
          },
          "metadata": {}
        }
      ]
    },
    {
      "cell_type": "code",
      "source": [
        "predict_on_sentence(model=model_2,\n",
        "                    sentence=Flanders_quote)"
      ],
      "metadata": {
        "id": "3xYNCw3_YW11",
        "colab": {
          "base_uri": "https://localhost:8080/"
        },
        "outputId": "5efafedd-70bb-40ca-ecf8-8837bbbc6129"
      },
      "execution_count": null,
      "outputs": [
        {
          "output_type": "stream",
          "name": "stdout",
          "text": [
            "1/1 [==============================] - 0s 157ms/step\n",
            "Prediction: 0.0 (The model predicts Flanders said this) Prob: 0.49556127190589905\n",
            "Quote:\n",
            "I got tickets to a Christian rock concert\n"
          ]
        }
      ]
    },
    {
      "cell_type": "code",
      "source": [
        "# Save TF Hub Sentence Encoder model to SavedModel format (default)\n",
        "model.save(\"model_SavedModel_format\")"
      ],
      "metadata": {
        "id": "qIqS1S5HT4Cn",
        "colab": {
          "base_uri": "https://localhost:8080/"
        },
        "outputId": "b4b1e7d6-a45c-4e19-990f-543d3de724a1"
      },
      "execution_count": null,
      "outputs": [
        {
          "output_type": "stream",
          "name": "stderr",
          "text": [
            "WARNING:absl:Function `_wrapped_model` contains input name(s) USE_input with unsupported characters which will be renamed to use_input in the SavedModel.\n"
          ]
        }
      ]
    }
  ]
}